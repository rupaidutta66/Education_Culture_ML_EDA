{
  "nbformat": 4,
  "nbformat_minor": 0,
  "metadata": {
    "colab": {
      "provenance": []
    },
    "kernelspec": {
      "name": "python3",
      "display_name": "Python 3"
    },
    "language_info": {
      "name": "python"
    }
  },
  "cells": [
    {
      "cell_type": "markdown",
      "source": [
        "## **Question 1: Describe 2 Ways to standardized the image dataset in terms of size and show through coding how it can bedone? (250 WORDS)**"
      ],
      "metadata": {
        "id": "XW07u6rvEorj"
      }
    },
    {
      "cell_type": "markdown",
      "source": [
        "Standardizing the size of image datasets is crucial for training machine learning models, as it ensures uniformity and simplifies the processing of images. Two common methods to standardize image datasets in terms of size are resizing and cropping. Here, I will describe both methods and provide Python code examples to demonstrate how they can be implemented using the popular library OpenCV.\n",
        "\n",
        "\n",
        "\n",
        "**1.   Resizing Images:**\n",
        "\n",
        "Resizing is the most straightforward method to standardize image sizes. It involves adjusting each image to a fixed width and height. Popular libraries like OpenCV and PIL (Python Imaging Library) can be used to perform this operation.\n",
        "2.   **Cropping and Padding:**\n",
        "\n",
        "Cropping and padding can be used to standardize images to a specific aspect ratio while maintaining their original content. This is particularly useful when dealing with differently sized images.\n",
        "\n"
      ],
      "metadata": {
        "id": "40wtEA25E4KJ"
      }
    },
    {
      "cell_type": "code",
      "execution_count": null,
      "metadata": {
        "id": "S89dJGj_Emle"
      },
      "outputs": [],
      "source": [
        "# RESIZING Images\n",
        "\n",
        "import cv2\n",
        "\n",
        "def resize_images(dataset, width, height):\n",
        "    resized_images = []\n",
        "    for image in dataset:\n",
        "        resized = cv2.resize(image, (width, height))\n",
        "        resized_images.append(resized)\n",
        "    return resized_images\n",
        "\n",
        "\n",
        "original_images = [...]  # List of original images\n",
        "standardized_images = resize_images(original_images, 128, 128)  # Resize to 128x128\n"
      ]
    },
    {
      "cell_type": "markdown",
      "source": [
        "In this code, you specify the input folder containing the original images, the output folder for resized images, and the target size (e.g., 128x128 pixels)."
      ],
      "metadata": {
        "id": "ItaIFew_GSp9"
      }
    },
    {
      "cell_type": "code",
      "source": [
        "# Cropping and Paddling\n",
        "\n",
        "import cv2\n",
        "import numpy as np\n",
        "\n",
        "def resize_and_pad_image(image, target_size):\n",
        "    height, width, _ = image.shape\n",
        "    if height > width:\n",
        "        diff = height - width\n",
        "        pad_top = diff // 2\n",
        "        pad_bottom = diff - pad_top\n",
        "        image = cv2.copyMakeBorder(image, 0, 0, pad_top, pad_bottom, cv2.BORDER_CONSTANT)\n",
        "    elif width > height:\n",
        "        diff = width - height\n",
        "        pad_left = diff // 2\n",
        "        pad_right = diff - pad_left\n",
        "        image = cv2.copyMakeBorder(image, pad_left, pad_right, 0, 0, cv2.BORDER_CONSTANT)\n",
        "    image = cv2.resize(image, target_size)\n",
        "    return image\n",
        "\n",
        "input_image = cv2.imread('input_image.jpg')\n",
        "target_size = (224, 224)  # Set your desired size\n",
        "resized_image = resize_and_pad_image(input_image, target_size)\n",
        "cv2.imwrite('output_image.jpg', resized_image)\n"
      ],
      "metadata": {
        "id": "yMp_Bu3cGWep"
      },
      "execution_count": null,
      "outputs": []
    },
    {
      "cell_type": "markdown",
      "source": [
        "This code resizes and pads images to the specified target size while maintaining the original aspect ratio."
      ],
      "metadata": {
        "id": "mWZ_ExhvG97s"
      }
    },
    {
      "cell_type": "markdown",
      "source": [
        "# **Both of these methods help standardize image sizes, making them suitable for machine learning tasks like image classification or object detection. The choice between resizing and cropping/padding depends on the specific requirements of our dataset and the machine learning model we plan to use.**\n",
        "\n",
        "\n",
        "\n",
        "\n",
        "\n"
      ],
      "metadata": {
        "id": "vaiTVKHgG_OV"
      }
    },
    {
      "cell_type": "code",
      "source": [],
      "metadata": {
        "id": "9abzfeQJG-dv"
      },
      "execution_count": null,
      "outputs": []
    }
  ]
}